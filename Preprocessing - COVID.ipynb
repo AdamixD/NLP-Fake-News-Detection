{
 "cells": [
  {
   "cell_type": "markdown",
   "source": [
    "# Preprocessing - COVID"
   ],
   "metadata": {
    "collapsed": false
   }
  },
  {
   "cell_type": "markdown",
   "source": [
    "### 0. Imports"
   ],
   "metadata": {
    "collapsed": false
   }
  },
  {
   "cell_type": "code",
   "execution_count": 3,
   "outputs": [
    {
     "ename": "ModuleNotFoundError",
     "evalue": "No module named 'textblob'",
     "output_type": "error",
     "traceback": [
      "\u001B[1;31m---------------------------------------------------------------------------\u001B[0m",
      "\u001B[1;31mModuleNotFoundError\u001B[0m                       Traceback (most recent call last)",
      "Cell \u001B[1;32mIn[3], line 4\u001B[0m\n\u001B[0;32m      2\u001B[0m \u001B[38;5;28;01mimport\u001B[39;00m \u001B[38;5;21;01mre\u001B[39;00m\n\u001B[0;32m      3\u001B[0m \u001B[38;5;28;01mimport\u001B[39;00m \u001B[38;5;21;01mstring\u001B[39;00m\n\u001B[1;32m----> 4\u001B[0m \u001B[38;5;28;01mfrom\u001B[39;00m \u001B[38;5;21;01mtextblob\u001B[39;00m \u001B[38;5;28;01mimport\u001B[39;00m TextBlob\n",
      "\u001B[1;31mModuleNotFoundError\u001B[0m: No module named 'textblob'"
     ]
    }
   ],
   "source": [
    "import pandas as pd\n",
    "import re\n",
    "import string\n",
    "from textblob import TextBlob"
   ],
   "metadata": {
    "collapsed": false
   }
  },
  {
   "cell_type": "markdown",
   "source": [
    "### 1. Loading data"
   ],
   "metadata": {
    "collapsed": false
   }
  },
  {
   "cell_type": "code",
   "execution_count": null,
   "outputs": [],
   "source": [
    "COVID_PATH = \"data/basic/covid/data.csv\"\n"
   ],
   "metadata": {
    "collapsed": false
   }
  },
  {
   "cell_type": "code",
   "execution_count": null,
   "outputs": [],
   "source": [
    "dataset = pd.read_csv(COVID_PATH)"
   ],
   "metadata": {
    "collapsed": false
   }
  },
  {
   "cell_type": "code",
   "execution_count": null,
   "outputs": [],
   "source": [
    "dataset"
   ],
   "metadata": {
    "collapsed": false
   }
  },
  {
   "cell_type": "markdown",
   "source": [
    "### 2. Hashtags preprocessing"
   ],
   "metadata": {
    "collapsed": false
   }
  },
  {
   "cell_type": "code",
   "execution_count": null,
   "outputs": [],
   "source": [
    "def find_hashtags(row: pd.DataFrame) -> list:\n",
    "    hashtags = re.findall(r\"#\\w+\", row['headlines'])\n",
    "    hashtags = [re.sub(r\"^#\", \"\", hashtag) for hashtag in hashtags]\n",
    "\n",
    "    return hashtags"
   ],
   "metadata": {
    "collapsed": false
   }
  },
  {
   "cell_type": "code",
   "execution_count": null,
   "outputs": [],
   "source": [
    "def remove_hashtags(row: pd.DataFrame) -> str:\n",
    "    return re.sub(r\"#\", \"\", row['headlines'])"
   ],
   "metadata": {
    "collapsed": false
   }
  },
  {
   "cell_type": "code",
   "execution_count": null,
   "outputs": [],
   "source": [
    "def preprocess_hashtags(dataset: pd.DataFrame) -> pd.DataFrame:\n",
    "    dataset['hashtags'] = dataset.apply(find_hashtags, axis=1)\n",
    "    dataset['headlines'] = dataset.apply(remove_hashtags, axis=1)\n",
    "\n",
    "    return dataset"
   ],
   "metadata": {
    "collapsed": false
   }
  },
  {
   "cell_type": "code",
   "execution_count": null,
   "outputs": [],
   "source": [
    "dataset = preprocess_hashtags(dataset)"
   ],
   "metadata": {
    "collapsed": false
   }
  },
  {
   "cell_type": "code",
   "execution_count": null,
   "outputs": [],
   "source": [
    "dataset"
   ],
   "metadata": {
    "collapsed": false
   }
  },
  {
   "cell_type": "markdown",
   "source": [
    "### 3. Lowercase preprocessing"
   ],
   "metadata": {
    "collapsed": false
   }
  },
  {
   "cell_type": "code",
   "execution_count": null,
   "outputs": [],
   "source": [
    "def convert_to_lowercase(dataset: pd.DataFrame) -> pd.DataFrame:\n",
    "    dataset['headlines'] = dataset['headlines'].apply(lambda text: text.lower())\n",
    "\n",
    "    return dataset"
   ],
   "metadata": {
    "collapsed": false
   }
  },
  {
   "cell_type": "code",
   "execution_count": null,
   "outputs": [],
   "source": [
    "dataset = convert_to_lowercase(dataset)"
   ],
   "metadata": {
    "collapsed": false
   }
  },
  {
   "cell_type": "code",
   "execution_count": null,
   "outputs": [],
   "source": [
    "dataset"
   ],
   "metadata": {
    "collapsed": false
   }
  },
  {
   "cell_type": "markdown",
   "source": [
    "### 4. Punctuation preprocessing"
   ],
   "metadata": {
    "collapsed": false
   }
  },
  {
   "cell_type": "code",
   "execution_count": null,
   "outputs": [],
   "source": [
    "def remove_punctuation(row: pd.DataFrame) -> str:\n",
    "    return \"\".join([char for char in row['headlines'] if char not in string.punctuation])"
   ],
   "metadata": {
    "collapsed": false
   }
  },
  {
   "cell_type": "code",
   "execution_count": null,
   "outputs": [],
   "source": [
    "def preprocess_punctuation(dataset: pd.DataFrame) -> pd.DataFrame:\n",
    "    dataset['headlines'] = dataset.apply(remove_punctuation, axis=1)\n",
    "\n",
    "    return dataset"
   ],
   "metadata": {
    "collapsed": false
   }
  },
  {
   "cell_type": "code",
   "execution_count": null,
   "outputs": [],
   "source": [
    "dataset = preprocess_punctuation(dataset)"
   ],
   "metadata": {
    "collapsed": false
   }
  },
  {
   "cell_type": "code",
   "execution_count": null,
   "outputs": [],
   "source": [
    "dataset"
   ],
   "metadata": {
    "collapsed": false
   }
  },
  {
   "cell_type": "markdown",
   "source": [
    "### 5. Emojis preprocessing"
   ],
   "metadata": {
    "collapsed": false
   }
  },
  {
   "cell_type": "code",
   "execution_count": null,
   "outputs": [],
   "source": [
    "def find_emojis(row: pd.DataFrame) -> list:\n",
    "    return list(set(emoji.distinct_emoji_list(row['headlines'])))\n",
    "\n",
    "def interpret_emojis(row: pd.DataFrame) -> list:\n",
    "    return [emoji.demojize(emoji_item, delimiters=(\"\", \"\")) for emoji_item in row['emojis']]\n",
    "\n",
    "def remove_emojis(row: pd.DataFrame) -> str:\n",
    "    return emoji.replace_emoji(row['headlines'])\n",
    "\n",
    "def preprocess_emojis(dataset: pd.DataFrame) -> pd.DataFrame:\n",
    "    dataset['emojis'] = dataset.apply(find_emojis, axis=1)\n",
    "    dataset['emojis'] = dataset.apply(interpret_emojis, axis=1)\n",
    "    dataset['headlines'] = dataset.apply(remove_emojis, axis=1)\n",
    "\n",
    "    return dataset"
   ],
   "metadata": {
    "collapsed": false
   }
  },
  {
   "cell_type": "code",
   "execution_count": null,
   "outputs": [],
   "source": [
    "dataset = preprocess_emojis(dataset)"
   ],
   "metadata": {
    "collapsed": false
   }
  },
  {
   "cell_type": "code",
   "execution_count": null,
   "outputs": [],
   "source": [
    "dataset"
   ],
   "metadata": {
    "collapsed": false
   }
  },
  {
   "cell_type": "markdown",
   "source": [
    "### 6. Sentiment analysis"
   ],
   "metadata": {
    "collapsed": false
   }
  },
  {
   "cell_type": "code",
   "execution_count": null,
   "outputs": [],
   "source": [
    "def define_sentiment(row: pd.DataFrame) -> str:\n",
    "    return 'negative' if row['polarity'] < 0 else 'positive' if row['polarity'] > 0 else 'neutral'\n",
    "\n",
    "def analyze_sentiment(dataset: pd.DataFrame) -> pd.DataFrame:\n",
    "    sentiment_items = [TextBlob(text) for text in dataset['headlines'].tolist()]\n",
    "    dataset['polarity'] = [text.sentiment.polarity for text in sentiment_items]\n",
    "    dataset['subjectivity'] = [text.sentiment.subjectivity for text in sentiment_items]\n",
    "    dataset['sentiment'] = dataset.apply(define_sentiment, axis=1)\n",
    "\n",
    "    return dataset"
   ],
   "metadata": {
    "collapsed": false
   }
  },
  {
   "cell_type": "code",
   "execution_count": null,
   "outputs": [],
   "source": [
    "dataset = analyze_sentiment(dataset)"
   ],
   "metadata": {
    "collapsed": false
   }
  },
  {
   "cell_type": "code",
   "execution_count": null,
   "outputs": [],
   "source": [
    "dataset"
   ],
   "metadata": {
    "collapsed": false
   }
  }
 ],
 "metadata": {
  "kernelspec": {
   "display_name": "Python 3",
   "language": "python",
   "name": "python3"
  },
  "language_info": {
   "codemirror_mode": {
    "name": "ipython",
    "version": 2
   },
   "file_extension": ".py",
   "mimetype": "text/x-python",
   "name": "python",
   "nbconvert_exporter": "python",
   "pygments_lexer": "ipython2",
   "version": "2.7.6"
  }
 },
 "nbformat": 4,
 "nbformat_minor": 0
}
