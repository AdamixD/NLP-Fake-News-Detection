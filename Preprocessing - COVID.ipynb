{
 "cells": [
  {
   "cell_type": "markdown",
   "source": [
    "# Preprocessing - COVID"
   ],
   "metadata": {
    "collapsed": false
   }
  },
  {
   "cell_type": "markdown",
   "source": [
    "### 0. Imports"
   ],
   "metadata": {
    "collapsed": false
   }
  },
  {
   "cell_type": "code",
   "execution_count": 110,
   "outputs": [],
   "source": [
    "import emoji\n",
    "import pandas as pd\n",
    "import re\n",
    "import string\n",
    "\n",
    "from textblob import TextBlob"
   ],
   "metadata": {
    "collapsed": false
   }
  },
  {
   "cell_type": "markdown",
   "source": [
    "### 1. Loading data"
   ],
   "metadata": {
    "collapsed": false
   }
  },
  {
   "cell_type": "code",
   "execution_count": 111,
   "outputs": [],
   "source": [
    "COVID_PATH = \"data/basic/covid/data.csv\""
   ],
   "metadata": {
    "collapsed": false
   }
  },
  {
   "cell_type": "code",
   "execution_count": 112,
   "outputs": [],
   "source": [
    "dataset = pd.read_csv(COVID_PATH)"
   ],
   "metadata": {
    "collapsed": false
   }
  },
  {
   "cell_type": "code",
   "execution_count": 113,
   "outputs": [
    {
     "data": {
      "text/plain": "                                               headlines  outcome\n0      A post claims compulsory vacination violates t...        0\n1      A photo claims that this person is a doctor wh...        0\n2      Post about a video claims that it is a protest...        0\n3      All deaths by respiratory failure and pneumoni...        0\n4      The dean of the College of Biologists of Euska...        0\n...                                                  ...      ...\n10196  A Chinese market caused the new coronavirus (v...        0\n10197  The peak of the new coronavirus will happen in...        0\n10198  Stores and supermarkets in Veracruz (Mexico) w...        0\n10199  A chain message circulated on Tuesday, Jan. 14...        0\n10200  Photo shows Muslims in Tamil Nadu state of Ind...        0\n\n[10201 rows x 2 columns]",
      "text/html": "<div>\n<style scoped>\n    .dataframe tbody tr th:only-of-type {\n        vertical-align: middle;\n    }\n\n    .dataframe tbody tr th {\n        vertical-align: top;\n    }\n\n    .dataframe thead th {\n        text-align: right;\n    }\n</style>\n<table border=\"1\" class=\"dataframe\">\n  <thead>\n    <tr style=\"text-align: right;\">\n      <th></th>\n      <th>headlines</th>\n      <th>outcome</th>\n    </tr>\n  </thead>\n  <tbody>\n    <tr>\n      <th>0</th>\n      <td>A post claims compulsory vacination violates t...</td>\n      <td>0</td>\n    </tr>\n    <tr>\n      <th>1</th>\n      <td>A photo claims that this person is a doctor wh...</td>\n      <td>0</td>\n    </tr>\n    <tr>\n      <th>2</th>\n      <td>Post about a video claims that it is a protest...</td>\n      <td>0</td>\n    </tr>\n    <tr>\n      <th>3</th>\n      <td>All deaths by respiratory failure and pneumoni...</td>\n      <td>0</td>\n    </tr>\n    <tr>\n      <th>4</th>\n      <td>The dean of the College of Biologists of Euska...</td>\n      <td>0</td>\n    </tr>\n    <tr>\n      <th>...</th>\n      <td>...</td>\n      <td>...</td>\n    </tr>\n    <tr>\n      <th>10196</th>\n      <td>A Chinese market caused the new coronavirus (v...</td>\n      <td>0</td>\n    </tr>\n    <tr>\n      <th>10197</th>\n      <td>The peak of the new coronavirus will happen in...</td>\n      <td>0</td>\n    </tr>\n    <tr>\n      <th>10198</th>\n      <td>Stores and supermarkets in Veracruz (Mexico) w...</td>\n      <td>0</td>\n    </tr>\n    <tr>\n      <th>10199</th>\n      <td>A chain message circulated on Tuesday, Jan. 14...</td>\n      <td>0</td>\n    </tr>\n    <tr>\n      <th>10200</th>\n      <td>Photo shows Muslims in Tamil Nadu state of Ind...</td>\n      <td>0</td>\n    </tr>\n  </tbody>\n</table>\n<p>10201 rows × 2 columns</p>\n</div>"
     },
     "execution_count": 113,
     "metadata": {},
     "output_type": "execute_result"
    }
   ],
   "source": [
    "dataset"
   ],
   "metadata": {
    "collapsed": false
   }
  },
  {
   "cell_type": "markdown",
   "source": [
    "### 2. Hashtags preprocessing"
   ],
   "metadata": {
    "collapsed": false
   }
  },
  {
   "cell_type": "code",
   "execution_count": 114,
   "outputs": [],
   "source": [
    "def find_hashtags(row: pd.DataFrame) -> list:\n",
    "    hashtags = re.findall(r\"#\\w+\", row['headlines'])\n",
    "    hashtags = [re.sub(r\"^#\", \"\", hashtag) for hashtag in hashtags]\n",
    "\n",
    "    return hashtags"
   ],
   "metadata": {
    "collapsed": false
   }
  },
  {
   "cell_type": "code",
   "execution_count": 115,
   "outputs": [],
   "source": [
    "def remove_hashtags(row: pd.DataFrame) -> str:\n",
    "    return re.sub(r\"#\", \"\", row['headlines'])"
   ],
   "metadata": {
    "collapsed": false
   }
  },
  {
   "cell_type": "code",
   "execution_count": 116,
   "outputs": [],
   "source": [
    "def preprocess_hashtags(dataset: pd.DataFrame) -> pd.DataFrame:\n",
    "    dataset['hashtags'] = dataset.apply(find_hashtags, axis=1)\n",
    "    dataset['headlines'] = dataset.apply(remove_hashtags, axis=1)\n",
    "\n",
    "    return dataset"
   ],
   "metadata": {
    "collapsed": false
   }
  },
  {
   "cell_type": "code",
   "execution_count": 117,
   "outputs": [],
   "source": [
    "dataset = preprocess_hashtags(dataset)"
   ],
   "metadata": {
    "collapsed": false
   }
  },
  {
   "cell_type": "code",
   "execution_count": 118,
   "outputs": [
    {
     "data": {
      "text/plain": "                                               headlines  outcome hashtags\n0      A post claims compulsory vacination violates t...        0       []\n1      A photo claims that this person is a doctor wh...        0       []\n2      Post about a video claims that it is a protest...        0       []\n3      All deaths by respiratory failure and pneumoni...        0       []\n4      The dean of the College of Biologists of Euska...        0       []\n...                                                  ...      ...      ...\n10196  A Chinese market caused the new coronavirus (v...        0       []\n10197  The peak of the new coronavirus will happen in...        0       []\n10198  Stores and supermarkets in Veracruz (Mexico) w...        0       []\n10199  A chain message circulated on Tuesday, Jan. 14...        0       []\n10200  Photo shows Muslims in Tamil Nadu state of Ind...        0       []\n\n[10201 rows x 3 columns]",
      "text/html": "<div>\n<style scoped>\n    .dataframe tbody tr th:only-of-type {\n        vertical-align: middle;\n    }\n\n    .dataframe tbody tr th {\n        vertical-align: top;\n    }\n\n    .dataframe thead th {\n        text-align: right;\n    }\n</style>\n<table border=\"1\" class=\"dataframe\">\n  <thead>\n    <tr style=\"text-align: right;\">\n      <th></th>\n      <th>headlines</th>\n      <th>outcome</th>\n      <th>hashtags</th>\n    </tr>\n  </thead>\n  <tbody>\n    <tr>\n      <th>0</th>\n      <td>A post claims compulsory vacination violates t...</td>\n      <td>0</td>\n      <td>[]</td>\n    </tr>\n    <tr>\n      <th>1</th>\n      <td>A photo claims that this person is a doctor wh...</td>\n      <td>0</td>\n      <td>[]</td>\n    </tr>\n    <tr>\n      <th>2</th>\n      <td>Post about a video claims that it is a protest...</td>\n      <td>0</td>\n      <td>[]</td>\n    </tr>\n    <tr>\n      <th>3</th>\n      <td>All deaths by respiratory failure and pneumoni...</td>\n      <td>0</td>\n      <td>[]</td>\n    </tr>\n    <tr>\n      <th>4</th>\n      <td>The dean of the College of Biologists of Euska...</td>\n      <td>0</td>\n      <td>[]</td>\n    </tr>\n    <tr>\n      <th>...</th>\n      <td>...</td>\n      <td>...</td>\n      <td>...</td>\n    </tr>\n    <tr>\n      <th>10196</th>\n      <td>A Chinese market caused the new coronavirus (v...</td>\n      <td>0</td>\n      <td>[]</td>\n    </tr>\n    <tr>\n      <th>10197</th>\n      <td>The peak of the new coronavirus will happen in...</td>\n      <td>0</td>\n      <td>[]</td>\n    </tr>\n    <tr>\n      <th>10198</th>\n      <td>Stores and supermarkets in Veracruz (Mexico) w...</td>\n      <td>0</td>\n      <td>[]</td>\n    </tr>\n    <tr>\n      <th>10199</th>\n      <td>A chain message circulated on Tuesday, Jan. 14...</td>\n      <td>0</td>\n      <td>[]</td>\n    </tr>\n    <tr>\n      <th>10200</th>\n      <td>Photo shows Muslims in Tamil Nadu state of Ind...</td>\n      <td>0</td>\n      <td>[]</td>\n    </tr>\n  </tbody>\n</table>\n<p>10201 rows × 3 columns</p>\n</div>"
     },
     "execution_count": 118,
     "metadata": {},
     "output_type": "execute_result"
    }
   ],
   "source": [
    "dataset"
   ],
   "metadata": {
    "collapsed": false
   }
  },
  {
   "cell_type": "markdown",
   "source": [
    "### 3. Lowercase preprocessing"
   ],
   "metadata": {
    "collapsed": false
   }
  },
  {
   "cell_type": "code",
   "execution_count": 119,
   "outputs": [],
   "source": [
    "def convert_to_lowercase(dataset: pd.DataFrame) -> pd.DataFrame:\n",
    "    dataset['headlines'] = dataset['headlines'].apply(lambda text: text.lower())\n",
    "\n",
    "    return dataset"
   ],
   "metadata": {
    "collapsed": false
   }
  },
  {
   "cell_type": "code",
   "execution_count": 120,
   "outputs": [],
   "source": [
    "dataset = convert_to_lowercase(dataset)"
   ],
   "metadata": {
    "collapsed": false
   }
  },
  {
   "cell_type": "code",
   "execution_count": 121,
   "outputs": [
    {
     "data": {
      "text/plain": "                                               headlines  outcome hashtags\n0      a post claims compulsory vacination violates t...        0       []\n1      a photo claims that this person is a doctor wh...        0       []\n2      post about a video claims that it is a protest...        0       []\n3      all deaths by respiratory failure and pneumoni...        0       []\n4      the dean of the college of biologists of euska...        0       []\n...                                                  ...      ...      ...\n10196  a chinese market caused the new coronavirus (v...        0       []\n10197  the peak of the new coronavirus will happen in...        0       []\n10198  stores and supermarkets in veracruz (mexico) w...        0       []\n10199  a chain message circulated on tuesday, jan. 14...        0       []\n10200  photo shows muslims in tamil nadu state of ind...        0       []\n\n[10201 rows x 3 columns]",
      "text/html": "<div>\n<style scoped>\n    .dataframe tbody tr th:only-of-type {\n        vertical-align: middle;\n    }\n\n    .dataframe tbody tr th {\n        vertical-align: top;\n    }\n\n    .dataframe thead th {\n        text-align: right;\n    }\n</style>\n<table border=\"1\" class=\"dataframe\">\n  <thead>\n    <tr style=\"text-align: right;\">\n      <th></th>\n      <th>headlines</th>\n      <th>outcome</th>\n      <th>hashtags</th>\n    </tr>\n  </thead>\n  <tbody>\n    <tr>\n      <th>0</th>\n      <td>a post claims compulsory vacination violates t...</td>\n      <td>0</td>\n      <td>[]</td>\n    </tr>\n    <tr>\n      <th>1</th>\n      <td>a photo claims that this person is a doctor wh...</td>\n      <td>0</td>\n      <td>[]</td>\n    </tr>\n    <tr>\n      <th>2</th>\n      <td>post about a video claims that it is a protest...</td>\n      <td>0</td>\n      <td>[]</td>\n    </tr>\n    <tr>\n      <th>3</th>\n      <td>all deaths by respiratory failure and pneumoni...</td>\n      <td>0</td>\n      <td>[]</td>\n    </tr>\n    <tr>\n      <th>4</th>\n      <td>the dean of the college of biologists of euska...</td>\n      <td>0</td>\n      <td>[]</td>\n    </tr>\n    <tr>\n      <th>...</th>\n      <td>...</td>\n      <td>...</td>\n      <td>...</td>\n    </tr>\n    <tr>\n      <th>10196</th>\n      <td>a chinese market caused the new coronavirus (v...</td>\n      <td>0</td>\n      <td>[]</td>\n    </tr>\n    <tr>\n      <th>10197</th>\n      <td>the peak of the new coronavirus will happen in...</td>\n      <td>0</td>\n      <td>[]</td>\n    </tr>\n    <tr>\n      <th>10198</th>\n      <td>stores and supermarkets in veracruz (mexico) w...</td>\n      <td>0</td>\n      <td>[]</td>\n    </tr>\n    <tr>\n      <th>10199</th>\n      <td>a chain message circulated on tuesday, jan. 14...</td>\n      <td>0</td>\n      <td>[]</td>\n    </tr>\n    <tr>\n      <th>10200</th>\n      <td>photo shows muslims in tamil nadu state of ind...</td>\n      <td>0</td>\n      <td>[]</td>\n    </tr>\n  </tbody>\n</table>\n<p>10201 rows × 3 columns</p>\n</div>"
     },
     "execution_count": 121,
     "metadata": {},
     "output_type": "execute_result"
    }
   ],
   "source": [
    "dataset"
   ],
   "metadata": {
    "collapsed": false
   }
  },
  {
   "cell_type": "markdown",
   "source": [
    "### 4. Punctuation preprocessing"
   ],
   "metadata": {
    "collapsed": false
   }
  },
  {
   "cell_type": "code",
   "execution_count": 122,
   "outputs": [],
   "source": [
    "def remove_punctuation(row: pd.DataFrame) -> str:\n",
    "    return \"\".join([char for char in row['headlines'] if char not in string.punctuation])"
   ],
   "metadata": {
    "collapsed": false
   }
  },
  {
   "cell_type": "code",
   "execution_count": 123,
   "outputs": [],
   "source": [
    "def preprocess_punctuation(dataset: pd.DataFrame) -> pd.DataFrame:\n",
    "    dataset['headlines'] = dataset.apply(remove_punctuation, axis=1)\n",
    "\n",
    "    return dataset"
   ],
   "metadata": {
    "collapsed": false
   }
  },
  {
   "cell_type": "code",
   "execution_count": 124,
   "outputs": [],
   "source": [
    "dataset = preprocess_punctuation(dataset)"
   ],
   "metadata": {
    "collapsed": false
   }
  },
  {
   "cell_type": "code",
   "execution_count": 125,
   "outputs": [
    {
     "data": {
      "text/plain": "                                               headlines  outcome hashtags\n0      a post claims compulsory vacination violates t...        0       []\n1      a photo claims that this person is a doctor wh...        0       []\n2      post about a video claims that it is a protest...        0       []\n3      all deaths by respiratory failure and pneumoni...        0       []\n4      the dean of the college of biologists of euska...        0       []\n...                                                  ...      ...      ...\n10196  a chinese market caused the new coronavirus video        0       []\n10197  the peak of the new coronavirus will happen in...        0       []\n10198  stores and supermarkets in veracruz mexico wil...        0       []\n10199  a chain message circulated on tuesday jan 14 w...        0       []\n10200  photo shows muslims in tamil nadu state of ind...        0       []\n\n[10201 rows x 3 columns]",
      "text/html": "<div>\n<style scoped>\n    .dataframe tbody tr th:only-of-type {\n        vertical-align: middle;\n    }\n\n    .dataframe tbody tr th {\n        vertical-align: top;\n    }\n\n    .dataframe thead th {\n        text-align: right;\n    }\n</style>\n<table border=\"1\" class=\"dataframe\">\n  <thead>\n    <tr style=\"text-align: right;\">\n      <th></th>\n      <th>headlines</th>\n      <th>outcome</th>\n      <th>hashtags</th>\n    </tr>\n  </thead>\n  <tbody>\n    <tr>\n      <th>0</th>\n      <td>a post claims compulsory vacination violates t...</td>\n      <td>0</td>\n      <td>[]</td>\n    </tr>\n    <tr>\n      <th>1</th>\n      <td>a photo claims that this person is a doctor wh...</td>\n      <td>0</td>\n      <td>[]</td>\n    </tr>\n    <tr>\n      <th>2</th>\n      <td>post about a video claims that it is a protest...</td>\n      <td>0</td>\n      <td>[]</td>\n    </tr>\n    <tr>\n      <th>3</th>\n      <td>all deaths by respiratory failure and pneumoni...</td>\n      <td>0</td>\n      <td>[]</td>\n    </tr>\n    <tr>\n      <th>4</th>\n      <td>the dean of the college of biologists of euska...</td>\n      <td>0</td>\n      <td>[]</td>\n    </tr>\n    <tr>\n      <th>...</th>\n      <td>...</td>\n      <td>...</td>\n      <td>...</td>\n    </tr>\n    <tr>\n      <th>10196</th>\n      <td>a chinese market caused the new coronavirus video</td>\n      <td>0</td>\n      <td>[]</td>\n    </tr>\n    <tr>\n      <th>10197</th>\n      <td>the peak of the new coronavirus will happen in...</td>\n      <td>0</td>\n      <td>[]</td>\n    </tr>\n    <tr>\n      <th>10198</th>\n      <td>stores and supermarkets in veracruz mexico wil...</td>\n      <td>0</td>\n      <td>[]</td>\n    </tr>\n    <tr>\n      <th>10199</th>\n      <td>a chain message circulated on tuesday jan 14 w...</td>\n      <td>0</td>\n      <td>[]</td>\n    </tr>\n    <tr>\n      <th>10200</th>\n      <td>photo shows muslims in tamil nadu state of ind...</td>\n      <td>0</td>\n      <td>[]</td>\n    </tr>\n  </tbody>\n</table>\n<p>10201 rows × 3 columns</p>\n</div>"
     },
     "execution_count": 125,
     "metadata": {},
     "output_type": "execute_result"
    }
   ],
   "source": [
    "dataset"
   ],
   "metadata": {
    "collapsed": false
   }
  },
  {
   "cell_type": "markdown",
   "source": [
    "### 5. Emojis preprocessing"
   ],
   "metadata": {
    "collapsed": false
   }
  },
  {
   "cell_type": "code",
   "execution_count": 126,
   "outputs": [],
   "source": [
    "def find_emojis(row: pd.DataFrame) -> list:\n",
    "    return list(set(emoji.distinct_emoji_list(row['headlines'])))\n",
    "\n",
    "def interpret_emojis(row: pd.DataFrame) -> list:\n",
    "    return [emoji.demojize(emoji_item, delimiters=(\"\", \"\")) for emoji_item in row['emojis']]\n",
    "\n",
    "def remove_emojis(row: pd.DataFrame) -> str:\n",
    "    return emoji.replace_emoji(row['headlines'])\n",
    "\n",
    "def preprocess_emojis(dataset: pd.DataFrame) -> pd.DataFrame:\n",
    "    dataset['emojis'] = dataset.apply(find_emojis, axis=1)\n",
    "    dataset['emojis'] = dataset.apply(interpret_emojis, axis=1)\n",
    "    dataset['headlines'] = dataset.apply(remove_emojis, axis=1)\n",
    "\n",
    "    return dataset"
   ],
   "metadata": {
    "collapsed": false
   }
  },
  {
   "cell_type": "code",
   "execution_count": 127,
   "outputs": [],
   "source": [
    "dataset = preprocess_emojis(dataset)"
   ],
   "metadata": {
    "collapsed": false
   }
  },
  {
   "cell_type": "code",
   "execution_count": 128,
   "outputs": [
    {
     "data": {
      "text/plain": "                                               headlines  outcome hashtags  \\\n0      a post claims compulsory vacination violates t...        0       []   \n1      a photo claims that this person is a doctor wh...        0       []   \n2      post about a video claims that it is a protest...        0       []   \n3      all deaths by respiratory failure and pneumoni...        0       []   \n4      the dean of the college of biologists of euska...        0       []   \n...                                                  ...      ...      ...   \n10196  a chinese market caused the new coronavirus video        0       []   \n10197  the peak of the new coronavirus will happen in...        0       []   \n10198  stores and supermarkets in veracruz mexico wil...        0       []   \n10199  a chain message circulated on tuesday jan 14 w...        0       []   \n10200  photo shows muslims in tamil nadu state of ind...        0       []   \n\n             emojis  \n0      [trade_mark]  \n1                []  \n2                []  \n3                []  \n4      [trade_mark]  \n...             ...  \n10196            []  \n10197            []  \n10198            []  \n10199            []  \n10200            []  \n\n[10201 rows x 4 columns]",
      "text/html": "<div>\n<style scoped>\n    .dataframe tbody tr th:only-of-type {\n        vertical-align: middle;\n    }\n\n    .dataframe tbody tr th {\n        vertical-align: top;\n    }\n\n    .dataframe thead th {\n        text-align: right;\n    }\n</style>\n<table border=\"1\" class=\"dataframe\">\n  <thead>\n    <tr style=\"text-align: right;\">\n      <th></th>\n      <th>headlines</th>\n      <th>outcome</th>\n      <th>hashtags</th>\n      <th>emojis</th>\n    </tr>\n  </thead>\n  <tbody>\n    <tr>\n      <th>0</th>\n      <td>a post claims compulsory vacination violates t...</td>\n      <td>0</td>\n      <td>[]</td>\n      <td>[trade_mark]</td>\n    </tr>\n    <tr>\n      <th>1</th>\n      <td>a photo claims that this person is a doctor wh...</td>\n      <td>0</td>\n      <td>[]</td>\n      <td>[]</td>\n    </tr>\n    <tr>\n      <th>2</th>\n      <td>post about a video claims that it is a protest...</td>\n      <td>0</td>\n      <td>[]</td>\n      <td>[]</td>\n    </tr>\n    <tr>\n      <th>3</th>\n      <td>all deaths by respiratory failure and pneumoni...</td>\n      <td>0</td>\n      <td>[]</td>\n      <td>[]</td>\n    </tr>\n    <tr>\n      <th>4</th>\n      <td>the dean of the college of biologists of euska...</td>\n      <td>0</td>\n      <td>[]</td>\n      <td>[trade_mark]</td>\n    </tr>\n    <tr>\n      <th>...</th>\n      <td>...</td>\n      <td>...</td>\n      <td>...</td>\n      <td>...</td>\n    </tr>\n    <tr>\n      <th>10196</th>\n      <td>a chinese market caused the new coronavirus video</td>\n      <td>0</td>\n      <td>[]</td>\n      <td>[]</td>\n    </tr>\n    <tr>\n      <th>10197</th>\n      <td>the peak of the new coronavirus will happen in...</td>\n      <td>0</td>\n      <td>[]</td>\n      <td>[]</td>\n    </tr>\n    <tr>\n      <th>10198</th>\n      <td>stores and supermarkets in veracruz mexico wil...</td>\n      <td>0</td>\n      <td>[]</td>\n      <td>[]</td>\n    </tr>\n    <tr>\n      <th>10199</th>\n      <td>a chain message circulated on tuesday jan 14 w...</td>\n      <td>0</td>\n      <td>[]</td>\n      <td>[]</td>\n    </tr>\n    <tr>\n      <th>10200</th>\n      <td>photo shows muslims in tamil nadu state of ind...</td>\n      <td>0</td>\n      <td>[]</td>\n      <td>[]</td>\n    </tr>\n  </tbody>\n</table>\n<p>10201 rows × 4 columns</p>\n</div>"
     },
     "execution_count": 128,
     "metadata": {},
     "output_type": "execute_result"
    }
   ],
   "source": [
    "dataset"
   ],
   "metadata": {
    "collapsed": false
   }
  },
  {
   "cell_type": "markdown",
   "source": [
    "### 6. Sentiment analysis"
   ],
   "metadata": {
    "collapsed": false
   }
  },
  {
   "cell_type": "code",
   "execution_count": 129,
   "outputs": [],
   "source": [
    "def define_sentiment(row: pd.DataFrame) -> str:\n",
    "    return 'negative' if row['polarity'] < 0 else 'positive' if row['polarity'] > 0 else 'neutral'\n",
    "\n",
    "def analyze_sentiment(dataset: pd.DataFrame) -> pd.DataFrame:\n",
    "    sentiment_items = [TextBlob(text) for text in dataset['headlines'].tolist()]\n",
    "    dataset['polarity'] = [text.sentiment.polarity for text in sentiment_items]\n",
    "    dataset['subjectivity'] = [text.sentiment.subjectivity for text in sentiment_items]\n",
    "    dataset['sentiment'] = dataset.apply(define_sentiment, axis=1)\n",
    "\n",
    "    return dataset"
   ],
   "metadata": {
    "collapsed": false
   }
  },
  {
   "cell_type": "code",
   "execution_count": 130,
   "outputs": [],
   "source": [
    "dataset = analyze_sentiment(dataset)"
   ],
   "metadata": {
    "collapsed": false
   }
  },
  {
   "cell_type": "code",
   "execution_count": 131,
   "outputs": [
    {
     "data": {
      "text/plain": "                                               headlines  outcome hashtags  \\\n0      a post claims compulsory vacination violates t...        0       []   \n1      a photo claims that this person is a doctor wh...        0       []   \n2      post about a video claims that it is a protest...        0       []   \n3      all deaths by respiratory failure and pneumoni...        0       []   \n4      the dean of the college of biologists of euska...        0       []   \n...                                                  ...      ...      ...   \n10196  a chinese market caused the new coronavirus video        0       []   \n10197  the peak of the new coronavirus will happen in...        0       []   \n10198  stores and supermarkets in veracruz mexico wil...        0       []   \n10199  a chain message circulated on tuesday jan 14 w...        0       []   \n10200  photo shows muslims in tamil nadu state of ind...        0       []   \n\n             emojis  polarity  subjectivity sentiment  \n0      [trade_mark]  0.033333      0.500000  positive  \n1                []  0.500000      0.500000  positive  \n2                []  0.000000      0.000000   neutral  \n3                [] -0.316667      0.300000  negative  \n4      [trade_mark] -0.400000      0.600000  negative  \n...             ...       ...           ...       ...  \n10196            []  0.068182      0.227273  positive  \n10197            []  0.123603      0.572811  positive  \n10198            []  0.003788      0.276515  positive  \n10199            []  0.300000      0.450000  positive  \n10200            []  0.000000      0.000000   neutral  \n\n[10201 rows x 7 columns]",
      "text/html": "<div>\n<style scoped>\n    .dataframe tbody tr th:only-of-type {\n        vertical-align: middle;\n    }\n\n    .dataframe tbody tr th {\n        vertical-align: top;\n    }\n\n    .dataframe thead th {\n        text-align: right;\n    }\n</style>\n<table border=\"1\" class=\"dataframe\">\n  <thead>\n    <tr style=\"text-align: right;\">\n      <th></th>\n      <th>headlines</th>\n      <th>outcome</th>\n      <th>hashtags</th>\n      <th>emojis</th>\n      <th>polarity</th>\n      <th>subjectivity</th>\n      <th>sentiment</th>\n    </tr>\n  </thead>\n  <tbody>\n    <tr>\n      <th>0</th>\n      <td>a post claims compulsory vacination violates t...</td>\n      <td>0</td>\n      <td>[]</td>\n      <td>[trade_mark]</td>\n      <td>0.033333</td>\n      <td>0.500000</td>\n      <td>positive</td>\n    </tr>\n    <tr>\n      <th>1</th>\n      <td>a photo claims that this person is a doctor wh...</td>\n      <td>0</td>\n      <td>[]</td>\n      <td>[]</td>\n      <td>0.500000</td>\n      <td>0.500000</td>\n      <td>positive</td>\n    </tr>\n    <tr>\n      <th>2</th>\n      <td>post about a video claims that it is a protest...</td>\n      <td>0</td>\n      <td>[]</td>\n      <td>[]</td>\n      <td>0.000000</td>\n      <td>0.000000</td>\n      <td>neutral</td>\n    </tr>\n    <tr>\n      <th>3</th>\n      <td>all deaths by respiratory failure and pneumoni...</td>\n      <td>0</td>\n      <td>[]</td>\n      <td>[]</td>\n      <td>-0.316667</td>\n      <td>0.300000</td>\n      <td>negative</td>\n    </tr>\n    <tr>\n      <th>4</th>\n      <td>the dean of the college of biologists of euska...</td>\n      <td>0</td>\n      <td>[]</td>\n      <td>[trade_mark]</td>\n      <td>-0.400000</td>\n      <td>0.600000</td>\n      <td>negative</td>\n    </tr>\n    <tr>\n      <th>...</th>\n      <td>...</td>\n      <td>...</td>\n      <td>...</td>\n      <td>...</td>\n      <td>...</td>\n      <td>...</td>\n      <td>...</td>\n    </tr>\n    <tr>\n      <th>10196</th>\n      <td>a chinese market caused the new coronavirus video</td>\n      <td>0</td>\n      <td>[]</td>\n      <td>[]</td>\n      <td>0.068182</td>\n      <td>0.227273</td>\n      <td>positive</td>\n    </tr>\n    <tr>\n      <th>10197</th>\n      <td>the peak of the new coronavirus will happen in...</td>\n      <td>0</td>\n      <td>[]</td>\n      <td>[]</td>\n      <td>0.123603</td>\n      <td>0.572811</td>\n      <td>positive</td>\n    </tr>\n    <tr>\n      <th>10198</th>\n      <td>stores and supermarkets in veracruz mexico wil...</td>\n      <td>0</td>\n      <td>[]</td>\n      <td>[]</td>\n      <td>0.003788</td>\n      <td>0.276515</td>\n      <td>positive</td>\n    </tr>\n    <tr>\n      <th>10199</th>\n      <td>a chain message circulated on tuesday jan 14 w...</td>\n      <td>0</td>\n      <td>[]</td>\n      <td>[]</td>\n      <td>0.300000</td>\n      <td>0.450000</td>\n      <td>positive</td>\n    </tr>\n    <tr>\n      <th>10200</th>\n      <td>photo shows muslims in tamil nadu state of ind...</td>\n      <td>0</td>\n      <td>[]</td>\n      <td>[]</td>\n      <td>0.000000</td>\n      <td>0.000000</td>\n      <td>neutral</td>\n    </tr>\n  </tbody>\n</table>\n<p>10201 rows × 7 columns</p>\n</div>"
     },
     "execution_count": 131,
     "metadata": {},
     "output_type": "execute_result"
    }
   ],
   "source": [
    "dataset"
   ],
   "metadata": {
    "collapsed": false
   }
  }
 ],
 "metadata": {
  "kernelspec": {
   "display_name": "Python 3",
   "language": "python",
   "name": "python3"
  },
  "language_info": {
   "codemirror_mode": {
    "name": "ipython",
    "version": 2
   },
   "file_extension": ".py",
   "mimetype": "text/x-python",
   "name": "python",
   "nbconvert_exporter": "python",
   "pygments_lexer": "ipython2",
   "version": "2.7.6"
  }
 },
 "nbformat": 4,
 "nbformat_minor": 0
}
