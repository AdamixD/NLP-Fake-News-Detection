{
 "cells": [
  {
   "cell_type": "code",
   "execution_count": 1,
   "metadata": {
    "collapsed": true
   },
   "outputs": [
    {
     "name": "stdout",
     "output_type": "stream",
     "text": [
      "Requirement already satisfied: transformers in c:\\users\\adamd\\anaconda3\\envs\\gpu\\lib\\site-packages (4.28.1)\n",
      "Requirement already satisfied: datasets in c:\\users\\adamd\\anaconda3\\envs\\gpu\\lib\\site-packages (2.11.0)\n",
      "Collecting accelerate\n",
      "  Downloading accelerate-0.18.0-py3-none-any.whl (215 kB)\n",
      "                                              0.0/215.3 kB ? eta -:--:--\n",
      "     -                                        10.2/215.3 kB ? eta -:--:--\n",
      "     -                                        10.2/215.3 kB ? eta -:--:--\n",
      "     -----                                 30.7/215.3 kB 262.6 kB/s eta 0:00:01\n",
      "     ------------                          71.7/215.3 kB 435.7 kB/s eta 0:00:01\n",
      "     -------------------------------------- 215.3/215.3 kB 1.0 MB/s eta 0:00:00\n",
      "Collecting nvidia-ml-py3\n",
      "  Downloading nvidia-ml-py3-7.352.0.tar.gz (19 kB)\n",
      "  Preparing metadata (setup.py): started\n",
      "  Preparing metadata (setup.py): finished with status 'done'\n",
      "Requirement already satisfied: filelock in c:\\users\\adamd\\anaconda3\\envs\\gpu\\lib\\site-packages (from transformers) (3.11.0)\n",
      "Requirement already satisfied: huggingface-hub<1.0,>=0.11.0 in c:\\users\\adamd\\anaconda3\\envs\\gpu\\lib\\site-packages (from transformers) (0.13.4)\n",
      "Requirement already satisfied: numpy>=1.17 in c:\\users\\adamd\\anaconda3\\envs\\gpu\\lib\\site-packages (from transformers) (1.24.2)\n",
      "Requirement already satisfied: packaging>=20.0 in c:\\users\\adamd\\appdata\\roaming\\python\\python39\\site-packages (from transformers) (21.0)\n",
      "Requirement already satisfied: pyyaml>=5.1 in c:\\users\\adamd\\anaconda3\\envs\\gpu\\lib\\site-packages (from transformers) (6.0)\n",
      "Requirement already satisfied: regex!=2019.12.17 in c:\\users\\adamd\\anaconda3\\envs\\gpu\\lib\\site-packages (from transformers) (2022.10.31)\n",
      "Requirement already satisfied: requests in c:\\users\\adamd\\anaconda3\\envs\\gpu\\lib\\site-packages (from transformers) (2.28.2)\n",
      "Requirement already satisfied: tokenizers!=0.11.3,<0.14,>=0.11.1 in c:\\users\\adamd\\anaconda3\\envs\\gpu\\lib\\site-packages (from transformers) (0.13.3)\n",
      "Requirement already satisfied: tqdm>=4.27 in c:\\users\\adamd\\anaconda3\\envs\\gpu\\lib\\site-packages (from transformers) (4.65.0)\n",
      "Requirement already satisfied: pyarrow>=8.0.0 in c:\\users\\adamd\\anaconda3\\envs\\gpu\\lib\\site-packages (from datasets) (11.0.0)\n",
      "Requirement already satisfied: dill<0.3.7,>=0.3.0 in c:\\users\\adamd\\anaconda3\\envs\\gpu\\lib\\site-packages (from datasets) (0.3.6)\n",
      "Requirement already satisfied: pandas in c:\\users\\adamd\\anaconda3\\envs\\gpu\\lib\\site-packages (from datasets) (1.5.3)\n",
      "Requirement already satisfied: xxhash in c:\\users\\adamd\\anaconda3\\envs\\gpu\\lib\\site-packages (from datasets) (3.2.0)\n",
      "Requirement already satisfied: multiprocess in c:\\users\\adamd\\anaconda3\\envs\\gpu\\lib\\site-packages (from datasets) (0.70.14)\n",
      "Requirement already satisfied: fsspec[http]>=2021.11.1 in c:\\users\\adamd\\anaconda3\\envs\\gpu\\lib\\site-packages (from datasets) (2023.4.0)\n",
      "Requirement already satisfied: aiohttp in c:\\users\\adamd\\anaconda3\\envs\\gpu\\lib\\site-packages (from datasets) (3.8.4)\n",
      "Requirement already satisfied: responses<0.19 in c:\\users\\adamd\\anaconda3\\envs\\gpu\\lib\\site-packages (from datasets) (0.18.0)\n",
      "Requirement already satisfied: psutil in c:\\users\\adamd\\anaconda3\\envs\\gpu\\lib\\site-packages (from accelerate) (5.9.4)\n",
      "Collecting torch>=1.4.0 (from accelerate)\n",
      "  Downloading torch-2.0.0-cp39-cp39-win_amd64.whl (172.3 MB)\n",
      "                                              0.0/172.3 MB ? eta -:--:--\n",
      "                                              0.3/172.3 MB 5.2 MB/s eta 0:00:33\n",
      "                                             1.1/172.3 MB 11.5 MB/s eta 0:00:15\n",
      "                                             2.5/172.3 MB 17.8 MB/s eta 0:00:10\n",
      "                                             4.4/172.3 MB 23.4 MB/s eta 0:00:08\n",
      "     -                                       6.2/172.3 MB 26.4 MB/s eta 0:00:07\n",
      "     -                                       8.2/172.3 MB 29.2 MB/s eta 0:00:06\n",
      "     --                                     10.2/172.3 MB 31.0 MB/s eta 0:00:06\n",
      "     --                                     12.0/172.3 MB 40.9 MB/s eta 0:00:04\n",
      "     ---                                    14.0/172.3 MB 40.9 MB/s eta 0:00:04\n",
      "     ---                                    15.6/172.3 MB 40.9 MB/s eta 0:00:04\n",
      "     ---                                    17.2/172.3 MB 38.5 MB/s eta 0:00:05\n",
      "     ----                                   19.1/172.3 MB 38.5 MB/s eta 0:00:04\n",
      "     ----                                   21.3/172.3 MB 38.5 MB/s eta 0:00:04\n",
      "     -----                                  23.1/172.3 MB 40.9 MB/s eta 0:00:04\n",
      "     -----                                  25.1/172.3 MB 40.9 MB/s eta 0:00:04\n",
      "     -----                                  27.1/172.3 MB 43.7 MB/s eta 0:00:04\n",
      "     ------                                 29.2/172.3 MB 43.7 MB/s eta 0:00:04\n",
      "     ------                                 31.3/172.3 MB 43.7 MB/s eta 0:00:04\n",
      "     -------                                32.7/172.3 MB 40.9 MB/s eta 0:00:04\n",
      "     -------                                34.6/172.3 MB 40.9 MB/s eta 0:00:04\n",
      "     --------                               36.7/172.3 MB 40.9 MB/s eta 0:00:04\n",
      "     --------                               38.3/172.3 MB 38.6 MB/s eta 0:00:04\n",
      "     --------                               39.5/172.3 MB 36.4 MB/s eta 0:00:04\n",
      "     ---------                              41.4/172.3 MB 36.4 MB/s eta 0:00:04\n",
      "     ---------                              43.3/172.3 MB 38.5 MB/s eta 0:00:04\n",
      "     ---------                              45.3/172.3 MB 38.5 MB/s eta 0:00:04\n",
      "     ----------                             46.8/172.3 MB 36.4 MB/s eta 0:00:04\n",
      "     ----------                             48.1/172.3 MB 34.4 MB/s eta 0:00:04\n",
      "     ----------                             48.7/172.3 MB 31.1 MB/s eta 0:00:04\n",
      "     -----------                            50.0/172.3 MB 32.8 MB/s eta 0:00:04\n",
      "     -----------                            51.9/172.3 MB 32.8 MB/s eta 0:00:04\n",
      "     -----------                            53.2/172.3 MB 32.7 MB/s eta 0:00:04\n",
      "     -----------                            54.2/172.3 MB 28.5 MB/s eta 0:00:05\n",
      "     ------------                           56.2/172.3 MB 28.5 MB/s eta 0:00:05\n",
      "     ------------                           58.3/172.3 MB 31.2 MB/s eta 0:00:04\n",
      "     -------------                          60.4/172.3 MB 36.3 MB/s eta 0:00:04\n",
      "     -------------                          62.5/172.3 MB 38.5 MB/s eta 0:00:03\n",
      "     --------------                         64.1/172.3 MB 40.9 MB/s eta 0:00:03\n",
      "     --------------                         65.7/172.3 MB 40.9 MB/s eta 0:00:03\n",
      "     --------------                         66.8/172.3 MB 36.4 MB/s eta 0:00:03\n",
      "     ---------------                        68.3/172.3 MB 36.4 MB/s eta 0:00:03\n",
      "     ---------------                        70.4/172.3 MB 36.4 MB/s eta 0:00:03\n",
      "     ---------------                        72.3/172.3 MB 34.4 MB/s eta 0:00:03\n",
      "     ----------------                       73.1/172.3 MB 32.7 MB/s eta 0:00:04\n",
      "     ----------------                       74.2/172.3 MB 31.1 MB/s eta 0:00:04\n",
      "     ----------------                       75.3/172.3 MB 29.8 MB/s eta 0:00:04\n",
      "     ----------------                       75.9/172.3 MB 27.3 MB/s eta 0:00:04\n",
      "     -----------------                      78.0/172.3 MB 29.7 MB/s eta 0:00:04\n",
      "     -----------------                      79.9/172.3 MB 29.7 MB/s eta 0:00:04\n",
      "     -----------------                      80.8/172.3 MB 29.7 MB/s eta 0:00:04\n",
      "     -----------------                      80.8/172.3 MB 29.7 MB/s eta 0:00:04\n",
      "     -----------------                      80.8/172.3 MB 29.7 MB/s eta 0:00:04\n",
      "     ------------------                     83.6/172.3 MB 24.2 MB/s eta 0:00:04\n",
      "     -------------------                    88.2/172.3 MB 36.4 MB/s eta 0:00:03\n",
      "     -------------------                    90.2/172.3 MB 36.4 MB/s eta 0:00:03\n",
      "     --------------------                   92.2/172.3 MB 65.6 MB/s eta 0:00:02\n",
      "     --------------------                   94.2/172.3 MB 54.7 MB/s eta 0:00:02\n",
      "     ---------------------                  95.8/172.3 MB 50.4 MB/s eta 0:00:02\n",
      "     ---------------------                  97.7/172.3 MB 40.9 MB/s eta 0:00:02\n",
      "     ---------------------                  99.0/172.3 MB 38.5 MB/s eta 0:00:02\n",
      "     ---------------------                 100.9/172.3 MB 38.5 MB/s eta 0:00:02\n",
      "     ----------------------                102.9/172.3 MB 38.6 MB/s eta 0:00:02\n",
      "     ----------------------                104.8/172.3 MB 38.6 MB/s eta 0:00:02\n",
      "     ----------------------                106.8/172.3 MB 40.9 MB/s eta 0:00:02\n",
      "     -----------------------               108.7/172.3 MB 43.7 MB/s eta 0:00:02\n",
      "     -----------------------               109.5/172.3 MB 38.5 MB/s eta 0:00:02\n",
      "     -----------------------               110.2/172.3 MB 34.4 MB/s eta 0:00:02\n",
      "     -----------------------               110.2/172.3 MB 32.8 MB/s eta 0:00:02\n"
     ]
    },
    {
     "name": "stderr",
     "output_type": "stream",
     "text": [
      "ERROR: Exception:\n",
      "Traceback (most recent call last):\n",
      "  File \"C:\\Users\\adamd\\anaconda3\\envs\\gpu\\lib\\site-packages\\pip\\_vendor\\urllib3\\response.py\", line 438, in _error_catcher\n",
      "    yield\n",
      "  File \"C:\\Users\\adamd\\anaconda3\\envs\\gpu\\lib\\site-packages\\pip\\_vendor\\urllib3\\response.py\", line 561, in read\n",
      "    data = self._fp_read(amt) if not fp_closed else b\"\"\n",
      "  File \"C:\\Users\\adamd\\anaconda3\\envs\\gpu\\lib\\site-packages\\pip\\_vendor\\urllib3\\response.py\", line 527, in _fp_read\n",
      "    return self._fp.read(amt) if amt is not None else self._fp.read()\n",
      "  File \"C:\\Users\\adamd\\anaconda3\\envs\\gpu\\lib\\site-packages\\pip\\_vendor\\cachecontrol\\filewrapper.py\", line 94, in read\n",
      "    self.__buf.write(data)\n",
      "  File \"C:\\Users\\adamd\\anaconda3\\envs\\gpu\\lib\\tempfile.py\", line 478, in func_wrapper\n",
      "    return func(*args, **kwargs)\n",
      "OSError: [Errno 28] No space left on device\n",
      "\n",
      "During handling of the above exception, another exception occurred:\n",
      "\n",
      "Traceback (most recent call last):\n",
      "  File \"C:\\Users\\adamd\\anaconda3\\envs\\gpu\\lib\\site-packages\\pip\\_internal\\cli\\base_command.py\", line 169, in exc_logging_wrapper\n",
      "    status = run_func(*args)\n",
      "  File \"C:\\Users\\adamd\\anaconda3\\envs\\gpu\\lib\\site-packages\\pip\\_internal\\cli\\req_command.py\", line 248, in wrapper\n",
      "    return func(self, options, args)\n",
      "  File \"C:\\Users\\adamd\\anaconda3\\envs\\gpu\\lib\\site-packages\\pip\\_internal\\commands\\install.py\", line 377, in run\n",
      "    requirement_set = resolver.resolve(\n",
      "  File \"C:\\Users\\adamd\\anaconda3\\envs\\gpu\\lib\\site-packages\\pip\\_internal\\resolution\\resolvelib\\resolver.py\", line 92, in resolve\n",
      "    result = self._result = resolver.resolve(\n",
      "  File \"C:\\Users\\adamd\\anaconda3\\envs\\gpu\\lib\\site-packages\\pip\\_vendor\\resolvelib\\resolvers.py\", line 546, in resolve\n",
      "    state = resolution.resolve(requirements, max_rounds=max_rounds)\n",
      "  File \"C:\\Users\\adamd\\anaconda3\\envs\\gpu\\lib\\site-packages\\pip\\_vendor\\resolvelib\\resolvers.py\", line 427, in resolve\n",
      "    failure_causes = self._attempt_to_pin_criterion(name)\n",
      "  File \"C:\\Users\\adamd\\anaconda3\\envs\\gpu\\lib\\site-packages\\pip\\_vendor\\resolvelib\\resolvers.py\", line 239, in _attempt_to_pin_criterion\n",
      "    criteria = self._get_updated_criteria(candidate)\n",
      "  File \"C:\\Users\\adamd\\anaconda3\\envs\\gpu\\lib\\site-packages\\pip\\_vendor\\resolvelib\\resolvers.py\", line 230, in _get_updated_criteria\n",
      "    self._add_to_criteria(criteria, requirement, parent=candidate)\n",
      "  File \"C:\\Users\\adamd\\anaconda3\\envs\\gpu\\lib\\site-packages\\pip\\_vendor\\resolvelib\\resolvers.py\", line 173, in _add_to_criteria\n",
      "    if not criterion.candidates:\n",
      "  File \"C:\\Users\\adamd\\anaconda3\\envs\\gpu\\lib\\site-packages\\pip\\_vendor\\resolvelib\\structs.py\", line 156, in __bool__\n",
      "    return bool(self._sequence)\n",
      "  File \"C:\\Users\\adamd\\anaconda3\\envs\\gpu\\lib\\site-packages\\pip\\_internal\\resolution\\resolvelib\\found_candidates.py\", line 155, in __bool__\n",
      "    return any(self)\n",
      "  File \"C:\\Users\\adamd\\anaconda3\\envs\\gpu\\lib\\site-packages\\pip\\_internal\\resolution\\resolvelib\\found_candidates.py\", line 143, in <genexpr>\n",
      "    return (c for c in iterator if id(c) not in self._incompatible_ids)\n",
      "  File \"C:\\Users\\adamd\\anaconda3\\envs\\gpu\\lib\\site-packages\\pip\\_internal\\resolution\\resolvelib\\found_candidates.py\", line 47, in _iter_built\n",
      "    candidate = func()\n",
      "  File \"C:\\Users\\adamd\\anaconda3\\envs\\gpu\\lib\\site-packages\\pip\\_internal\\resolution\\resolvelib\\factory.py\", line 206, in _make_candidate_from_link\n",
      "    self._link_candidate_cache[link] = LinkCandidate(\n",
      "  File \"C:\\Users\\adamd\\anaconda3\\envs\\gpu\\lib\\site-packages\\pip\\_internal\\resolution\\resolvelib\\candidates.py\", line 293, in __init__\n",
      "    super().__init__(\n",
      "  File \"C:\\Users\\adamd\\anaconda3\\envs\\gpu\\lib\\site-packages\\pip\\_internal\\resolution\\resolvelib\\candidates.py\", line 156, in __init__\n",
      "    self.dist = self._prepare()\n",
      "  File \"C:\\Users\\adamd\\anaconda3\\envs\\gpu\\lib\\site-packages\\pip\\_internal\\resolution\\resolvelib\\candidates.py\", line 225, in _prepare\n",
      "    dist = self._prepare_distribution()\n",
      "  File \"C:\\Users\\adamd\\anaconda3\\envs\\gpu\\lib\\site-packages\\pip\\_internal\\resolution\\resolvelib\\candidates.py\", line 304, in _prepare_distribution\n",
      "    return preparer.prepare_linked_requirement(self._ireq, parallel_builds=True)\n",
      "  File \"C:\\Users\\adamd\\anaconda3\\envs\\gpu\\lib\\site-packages\\pip\\_internal\\operations\\prepare.py\", line 516, in prepare_linked_requirement\n",
      "    return self._prepare_linked_requirement(req, parallel_builds)\n",
      "  File \"C:\\Users\\adamd\\anaconda3\\envs\\gpu\\lib\\site-packages\\pip\\_internal\\operations\\prepare.py\", line 587, in _prepare_linked_requirement\n",
      "    local_file = unpack_url(\n",
      "  File \"C:\\Users\\adamd\\anaconda3\\envs\\gpu\\lib\\site-packages\\pip\\_internal\\operations\\prepare.py\", line 166, in unpack_url\n",
      "    file = get_http_url(\n",
      "  File \"C:\\Users\\adamd\\anaconda3\\envs\\gpu\\lib\\site-packages\\pip\\_internal\\operations\\prepare.py\", line 107, in get_http_url\n",
      "    from_path, content_type = download(link, temp_dir.path)\n",
      "  File \"C:\\Users\\adamd\\anaconda3\\envs\\gpu\\lib\\site-packages\\pip\\_internal\\network\\download.py\", line 147, in __call__\n",
      "    for chunk in chunks:\n",
      "  File \"C:\\Users\\adamd\\anaconda3\\envs\\gpu\\lib\\site-packages\\pip\\_internal\\cli\\progress_bars.py\", line 53, in _rich_progress_bar\n",
      "    for chunk in iterable:\n",
      "  File \"C:\\Users\\adamd\\anaconda3\\envs\\gpu\\lib\\site-packages\\pip\\_internal\\network\\utils.py\", line 63, in response_chunks\n",
      "    for chunk in response.raw.stream(\n",
      "  File \"C:\\Users\\adamd\\anaconda3\\envs\\gpu\\lib\\site-packages\\pip\\_vendor\\urllib3\\response.py\", line 622, in stream\n",
      "    data = self.read(amt=amt, decode_content=decode_content)\n",
      "  File \"C:\\Users\\adamd\\anaconda3\\envs\\gpu\\lib\\site-packages\\pip\\_vendor\\urllib3\\response.py\", line 587, in read\n",
      "    raise IncompleteRead(self._fp_bytes_read, self.length_remaining)\n",
      "  File \"C:\\Users\\adamd\\anaconda3\\envs\\gpu\\lib\\contextlib.py\", line 137, in __exit__\n",
      "    self.gen.throw(typ, value, traceback)\n",
      "  File \"C:\\Users\\adamd\\anaconda3\\envs\\gpu\\lib\\site-packages\\pip\\_vendor\\urllib3\\response.py\", line 455, in _error_catcher\n",
      "    raise ProtocolError(\"Connection broken: %r\" % e, e)\n",
      "pip._vendor.urllib3.exceptions.ProtocolError: (\"Connection broken: OSError(28, 'No space left on device')\", OSError(28, 'No space left on device'))\n"
     ]
    }
   ],
   "source": [
    "!pip install transformers datasets accelerate nvidia-ml-py3"
   ]
  },
  {
   "cell_type": "code",
   "execution_count": 1,
   "outputs": [],
   "source": [
    "import numpy as np\n",
    "from datasets import Dataset\n",
    "\n",
    "\n",
    "seq_len, dataset_size = 512, 512\n",
    "dummy_data = {\n",
    "    \"input_ids\": np.random.randint(100, 30000, (dataset_size, seq_len)),\n",
    "    \"labels\": np.random.randint(0, 1, (dataset_size)),\n",
    "}\n",
    "ds = Dataset.from_dict(dummy_data)\n",
    "ds.set_format(\"pt\")"
   ],
   "metadata": {
    "collapsed": false
   }
  },
  {
   "cell_type": "code",
   "execution_count": 2,
   "outputs": [],
   "source": [
    "from pynvml import *\n",
    "\n",
    "\n",
    "def print_gpu_utilization():\n",
    "    nvmlInit()\n",
    "    handle = nvmlDeviceGetHandleByIndex(0)\n",
    "    info = nvmlDeviceGetMemoryInfo(handle)\n",
    "    print(f\"GPU memory occupied: {info.used//1024**2} MB.\")\n",
    "\n",
    "\n",
    "def print_summary(result):\n",
    "    print(f\"Time: {result.metrics['train_runtime']:.2f}\")\n",
    "    print(f\"Samples/second: {result.metrics['train_samples_per_second']:.2f}\")\n",
    "    print_gpu_utilization()"
   ],
   "metadata": {
    "collapsed": false
   }
  },
  {
   "cell_type": "code",
   "execution_count": 3,
   "outputs": [
    {
     "name": "stdout",
     "output_type": "stream",
     "text": [
      "GPU memory occupied: 753 MB.\n"
     ]
    }
   ],
   "source": [
    "print_gpu_utilization()"
   ],
   "metadata": {
    "collapsed": false
   }
  },
  {
   "cell_type": "code",
   "execution_count": 6,
   "outputs": [
    {
     "name": "stdout",
     "output_type": "stream",
     "text": [
      "Sun Apr 16 15:21:15 2023       \n",
      "+---------------------------------------------------------------------------------------+\n",
      "| NVIDIA-SMI 531.14                 Driver Version: 531.14       CUDA Version: 12.1     |\n",
      "|-----------------------------------------+----------------------+----------------------+\n",
      "| GPU  Name                      TCC/WDDM | Bus-Id        Disp.A | Volatile Uncorr. ECC |\n",
      "| Fan  Temp  Perf            Pwr:Usage/Cap|         Memory-Usage | GPU-Util  Compute M. |\n",
      "|                                         |                      |               MIG M. |\n",
      "|=========================================+======================+======================|\n",
      "|   0  NVIDIA GeForce RTX 3060 L...  WDDM | 00000000:01:00.0  On |                  N/A |\n",
      "| N/A   64C    P8               14W /  N/A|    618MiB /  6144MiB |      5%      Default |\n",
      "|                                         |                      |                  N/A |\n",
      "+-----------------------------------------+----------------------+----------------------+\n",
      "                                                                                         \n",
      "+---------------------------------------------------------------------------------------+\n",
      "| Processes:                                                                            |\n",
      "|  GPU   GI   CI        PID   Type   Process name                            GPU Memory |\n",
      "|        ID   ID                                                             Usage      |\n",
      "|=======================================================================================|\n",
      "|    0   N/A  N/A     23632    C+G   ...ns\\Software\\Current\\LogiOverlay.exe    N/A      |\n",
      "|    0   N/A  N/A     27176      C   ...al\\Discord\\app-1.0.9012\\Discord.exe    N/A      |\n",
      "+---------------------------------------------------------------------------------------+\n"
     ]
    }
   ],
   "source": [
    "!nvidia-smi"
   ],
   "metadata": {
    "collapsed": false
   }
  },
  {
   "cell_type": "code",
   "execution_count": 13,
   "outputs": [
    {
     "data": {
      "text/plain": "                                                text  label hashtags emojis  \\\n0  Dom Aide Dint Homeysaid najgorsza osoba Turn C...      1       []     []   \n1  Flynn Hillary Clinton Big Woman Campus Embuse ...      0       []     []   \n\n   polarity  subjectivity sentiment  \n0 -0.009826      0.482797  negative  \n1  0.098977      0.487655  positive  ",
      "text/html": "<div>\n<style scoped>\n    .dataframe tbody tr th:only-of-type {\n        vertical-align: middle;\n    }\n\n    .dataframe tbody tr th {\n        vertical-align: top;\n    }\n\n    .dataframe thead th {\n        text-align: right;\n    }\n</style>\n<table border=\"1\" class=\"dataframe\">\n  <thead>\n    <tr style=\"text-align: right;\">\n      <th></th>\n      <th>text</th>\n      <th>label</th>\n      <th>hashtags</th>\n      <th>emojis</th>\n      <th>polarity</th>\n      <th>subjectivity</th>\n      <th>sentiment</th>\n    </tr>\n  </thead>\n  <tbody>\n    <tr>\n      <th>0</th>\n      <td>Dom Aide Dint Homeysaid najgorsza osoba Turn C...</td>\n      <td>1</td>\n      <td>[]</td>\n      <td>[]</td>\n      <td>-0.009826</td>\n      <td>0.482797</td>\n      <td>negative</td>\n    </tr>\n    <tr>\n      <th>1</th>\n      <td>Flynn Hillary Clinton Big Woman Campus Embuse ...</td>\n      <td>0</td>\n      <td>[]</td>\n      <td>[]</td>\n      <td>0.098977</td>\n      <td>0.487655</td>\n      <td>positive</td>\n    </tr>\n  </tbody>\n</table>\n</div>"
     },
     "execution_count": 13,
     "metadata": {},
     "output_type": "execute_result"
    }
   ],
   "source": [
    "import pandas as pd\n",
    "\n",
    "from googletrans import Translator\n",
    "\n",
    "\n",
    "COVID_DATA_PATH = \"data/preprocessed/world_news_test\"\n",
    "\n",
    "data = pd.read_json(COVID_DATA_PATH, orient=\"records\", lines=True)\n",
    "\n",
    "def translate_text(row: pd.DataFrame) -> str:\n",
    "    translator = Translator()\n",
    "    return translator.translate(row['text'], src='en', dest='pl').text\n",
    "\n",
    "def translate_dataset(dataset) -> None:\n",
    "    dataset['text'] = dataset.apply(translate_text, axis=1)\n",
    "    return dataset\n",
    "\n",
    "translate_dataset(data)"
   ],
   "metadata": {
    "collapsed": false
   }
  },
  {
   "cell_type": "code",
   "execution_count": null,
   "outputs": [],
   "source": [],
   "metadata": {
    "collapsed": false
   }
  }
 ],
 "metadata": {
  "kernelspec": {
   "display_name": "Python 3",
   "language": "python",
   "name": "python3"
  },
  "language_info": {
   "codemirror_mode": {
    "name": "ipython",
    "version": 2
   },
   "file_extension": ".py",
   "mimetype": "text/x-python",
   "name": "python",
   "nbconvert_exporter": "python",
   "pygments_lexer": "ipython2",
   "version": "2.7.6"
  }
 },
 "nbformat": 4,
 "nbformat_minor": 0
}
