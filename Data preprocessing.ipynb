{
 "cells": [
  {
   "cell_type": "markdown",
   "source": [
    "# Data preprocessing"
   ],
   "metadata": {
    "collapsed": false
   }
  },
  {
   "cell_type": "markdown",
   "source": [
    "### 1. Covid data"
   ],
   "metadata": {
    "collapsed": false
   }
  },
  {
   "cell_type": "code",
   "execution_count": 1,
   "outputs": [
    {
     "name": "stderr",
     "output_type": "stream",
     "text": [
      "[nltk_data] Downloading package punkt to\n",
      "[nltk_data]     /Users/adamdabkowski/nltk_data...\n",
      "[nltk_data]   Package punkt is already up-to-date!\n",
      "[nltk_data] Downloading package stopwords to\n",
      "[nltk_data]     /Users/adamdabkowski/nltk_data...\n",
      "[nltk_data]   Package stopwords is already up-to-date!\n",
      "[nltk_data] Downloading package wordnet to\n",
      "[nltk_data]     /Users/adamdabkowski/nltk_data...\n",
      "[nltk_data]   Package wordnet is already up-to-date!\n",
      "INFO:root:Start of preprocessing ...\n",
      "INFO:root:Hashtags preprocessing ...\n",
      "INFO:root:Emojis preprocessing ...\n",
      "INFO:root:Removing unicode chars ...\n",
      "INFO:root:Removing punctuation ...\n",
      "INFO:root:Checking spelling ...\n",
      "INFO:root:Analyzing sentiment ...\n",
      "INFO:root:Converting to lowercase ...\n",
      "INFO:root:Removing stopwords ...\n",
      "INFO:root:Lemmatization ...\n",
      "INFO:root:Saving preprocessed data ...\n",
      "INFO:root:The data was saved!\n"
     ]
    }
   ],
   "source": [
    "from preprocess.covid_preprocess import CovidPreprocess\n",
    "\n",
    "COVID_TEST_DATA_PATH = \"data/basic/covid_test\"\n",
    "\n",
    "covid_preprocessor = CovidPreprocess(path=COVID_TEST_DATA_PATH)\n",
    "covid_preprocessor.preprocess()"
   ],
   "metadata": {
    "collapsed": false
   }
  },
  {
   "cell_type": "markdown",
   "source": [
    "### 2. Political and news data"
   ],
   "metadata": {
    "collapsed": false
   }
  },
  {
   "cell_type": "code",
   "execution_count": 2,
   "outputs": [
    {
     "name": "stderr",
     "output_type": "stream",
     "text": [
      "INFO:root:Start of preprocessing ...\n",
      "INFO:root:Hashtags preprocessing ...\n",
      "INFO:root:Emojis preprocessing ...\n",
      "INFO:root:Removing unicode chars ...\n",
      "INFO:root:Removing punctuation ...\n",
      "INFO:root:Checking spelling ...\n",
      "INFO:root:Analyzing sentiment ...\n",
      "INFO:root:Converting to lowercase ...\n",
      "INFO:root:Removing stopwords ...\n",
      "INFO:root:Lemmatization ...\n",
      "INFO:root:Saving preprocessed data ...\n",
      "INFO:root:The data was saved!\n"
     ]
    }
   ],
   "source": [
    "from preprocess.politics_preprocess import PoliticsPreprocess\n",
    "\n",
    "POLITICAL_AND_NEWS_TEST_DATA_PATH = \"data/basic/political_and_news_test\"\n",
    "\n",
    "politics_preprocessor = PoliticsPreprocess(path=POLITICAL_AND_NEWS_TEST_DATA_PATH)\n",
    "politics_preprocessor.preprocess()"
   ],
   "metadata": {
    "collapsed": false
   }
  },
  {
   "cell_type": "markdown",
   "source": [
    "### 3. World news data"
   ],
   "metadata": {
    "collapsed": false
   }
  },
  {
   "cell_type": "code",
   "execution_count": 1,
   "outputs": [
    {
     "name": "stderr",
     "output_type": "stream",
     "text": [
      "[nltk_data] Downloading package punkt to\n",
      "[nltk_data]     /Users/adamdabkowski/nltk_data...\n",
      "[nltk_data]   Package punkt is already up-to-date!\n",
      "[nltk_data] Downloading package stopwords to\n",
      "[nltk_data]     /Users/adamdabkowski/nltk_data...\n",
      "[nltk_data]   Package stopwords is already up-to-date!\n",
      "[nltk_data] Downloading package wordnet to\n",
      "[nltk_data]     /Users/adamdabkowski/nltk_data...\n",
      "[nltk_data]   Package wordnet is already up-to-date!\n",
      "INFO:root:Start of preprocessing ...\n",
      "INFO:root:Hashtags preprocessing ...\n",
      "INFO:root:Emojis preprocessing ...\n",
      "INFO:root:Removing unicode chars ...\n",
      "INFO:root:Removing punctuation ...\n",
      "INFO:root:Checking spelling ...\n"
     ]
    },
    {
     "name": "stdout",
     "output_type": "stream",
     "text": [
      "Very misspelled word occurred: R25\n"
     ]
    },
    {
     "name": "stderr",
     "output_type": "stream",
     "text": [
      "INFO:root:Analyzing sentiment ...\n",
      "INFO:root:Converting to lowercase ...\n",
      "INFO:root:Removing stopwords ...\n",
      "INFO:root:Lemmatization ...\n",
      "INFO:root:Saving preprocessed data ...\n",
      "INFO:root:The data was saved!\n"
     ]
    }
   ],
   "source": [
    "from preprocess.world_news_preprocess import WorldNewsPreprocess\n",
    "\n",
    "WORLD_NEWS_TEST_DATA_PATH = \"data/basic/world_news_test\"\n",
    "\n",
    "world_news_preprocessor = WorldNewsPreprocess(path=WORLD_NEWS_TEST_DATA_PATH)\n",
    "world_news_preprocessor.preprocess()"
   ],
   "metadata": {
    "collapsed": false
   }
  }
 ],
 "metadata": {
  "kernelspec": {
   "display_name": "Python 3",
   "language": "python",
   "name": "python3"
  },
  "language_info": {
   "codemirror_mode": {
    "name": "ipython",
    "version": 2
   },
   "file_extension": ".py",
   "mimetype": "text/x-python",
   "name": "python",
   "nbconvert_exporter": "python",
   "pygments_lexer": "ipython2",
   "version": "2.7.6"
  }
 },
 "nbformat": 4,
 "nbformat_minor": 0
}
