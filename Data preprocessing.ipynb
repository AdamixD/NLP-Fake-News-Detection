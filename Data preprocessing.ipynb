{
 "cells": [
  {
   "cell_type": "markdown",
   "metadata": {
    "collapsed": false
   },
   "source": [
    "# Data preprocessing"
   ]
  },
  {
   "cell_type": "markdown",
   "metadata": {
    "collapsed": false
   },
   "source": [
    "### 1. Covid data"
   ]
  },
  {
   "cell_type": "code",
   "execution_count": 1,
   "metadata": {
    "collapsed": false
   },
   "outputs": [
    {
     "name": "stderr",
     "output_type": "stream",
     "text": [
      "[nltk_data] Downloading package punkt to\n",
      "[nltk_data]     /Users/adamdabkowski/nltk_data...\n",
      "[nltk_data]   Package punkt is already up-to-date!\n",
      "[nltk_data] Downloading package stopwords to\n",
      "[nltk_data]     /Users/adamdabkowski/nltk_data...\n",
      "[nltk_data]   Package stopwords is already up-to-date!\n",
      "[nltk_data] Downloading package wordnet to\n",
      "[nltk_data]     /Users/adamdabkowski/nltk_data...\n",
      "[nltk_data]   Package wordnet is already up-to-date!\n",
      "INFO:root:Start of preprocessing ...\n",
      "INFO:root:Hashtags preprocessing ...\n",
      "INFO:root:Emojis preprocessing ...\n",
      "INFO:root:Removing unicode chars ...\n",
      "INFO:root:Removing punctuation ...\n",
      "INFO:root:Checking spelling ...\n",
      "INFO:root:Analyzing sentiment ...\n",
      "INFO:root:Converting to lowercase ...\n",
      "INFO:root:Removing stopwords ...\n",
      "INFO:root:Lemmatization ...\n",
      "INFO:root:Saving preprocessed data ...\n",
      "INFO:root:The data was saved!\n"
     ]
    }
   ],
   "source": [
    "from preprocess.covid_preprocess import CovidPreprocess\n",
    "\n",
    "COVID_TEST_DATA_PATH = \"data/basic/covid_test\"\n",
    "\n",
    "covid_preprocessor = CovidPreprocess(path=COVID_TEST_DATA_PATH)\n",
    "covid_preprocessor.preprocess()"
   ]
  },
  {
   "cell_type": "markdown",
   "metadata": {
    "collapsed": false
   },
   "source": [
    "### 2. Political and news data"
   ]
  },
  {
   "cell_type": "code",
   "execution_count": 2,
   "metadata": {
    "collapsed": false
   },
   "outputs": [
    {
     "name": "stderr",
     "output_type": "stream",
     "text": [
      "INFO:root:Start of preprocessing ...\n",
      "INFO:root:Hashtags preprocessing ...\n",
      "INFO:root:Emojis preprocessing ...\n",
      "INFO:root:Removing unicode chars ...\n",
      "INFO:root:Removing punctuation ...\n",
      "INFO:root:Checking spelling ...\n",
      "INFO:root:Analyzing sentiment ...\n",
      "INFO:root:Converting to lowercase ...\n",
      "INFO:root:Removing stopwords ...\n",
      "INFO:root:Lemmatization ...\n",
      "INFO:root:Saving preprocessed data ...\n",
      "INFO:root:The data was saved!\n"
     ]
    }
   ],
   "source": [
    "from preprocess.politics_preprocess import PoliticsPreprocess\n",
    "\n",
    "POLITICAL_AND_NEWS_TEST_DATA_PATH = \"data/basic/political_and_news_test\"\n",
    "\n",
    "politics_preprocessor = PoliticsPreprocess(path=POLITICAL_AND_NEWS_TEST_DATA_PATH)\n",
    "politics_preprocessor.preprocess()"
   ]
  },
  {
   "cell_type": "markdown",
   "metadata": {
    "collapsed": false
   },
   "source": [
    "### 3. World news data"
   ]
  },
  {
   "cell_type": "code",
   "execution_count": 1,
   "metadata": {
    "collapsed": false
   },
   "outputs": [
    {
     "name": "stderr",
     "output_type": "stream",
     "text": [
      "[nltk_data] Downloading package punkt to\n",
      "[nltk_data]     /Users/adamdabkowski/nltk_data...\n",
      "[nltk_data]   Package punkt is already up-to-date!\n",
      "[nltk_data] Downloading package stopwords to\n",
      "[nltk_data]     /Users/adamdabkowski/nltk_data...\n",
      "[nltk_data]   Package stopwords is already up-to-date!\n",
      "[nltk_data] Downloading package wordnet to\n",
      "[nltk_data]     /Users/adamdabkowski/nltk_data...\n",
      "[nltk_data]   Package wordnet is already up-to-date!\n",
      "INFO:root:Start of preprocessing ...\n",
      "INFO:root:Hashtags preprocessing ...\n",
      "INFO:root:Emojis preprocessing ...\n",
      "INFO:root:Removing unicode chars ...\n",
      "INFO:root:Removing punctuation ...\n",
      "INFO:root:Checking spelling ...\n"
     ]
    },
    {
     "name": "stdout",
     "output_type": "stream",
     "text": [
      "Very misspelled word occurred: R25\n"
     ]
    },
    {
     "name": "stderr",
     "output_type": "stream",
     "text": [
      "INFO:root:Analyzing sentiment ...\n",
      "INFO:root:Converting to lowercase ...\n",
      "INFO:root:Removing stopwords ...\n",
      "INFO:root:Lemmatization ...\n",
      "INFO:root:Saving preprocessed data ...\n",
      "INFO:root:The data was saved!\n"
     ]
    }
   ],
   "source": [
    "from preprocess.world_news_preprocess import WorldNewsPreprocess\n",
    "\n",
    "WORLD_NEWS_TEST_DATA_PATH = \"data/basic/world_news_test\"\n",
    "\n",
    "world_news_preprocessor = WorldNewsPreprocess(path=WORLD_NEWS_TEST_DATA_PATH)\n",
    "world_news_preprocessor.preprocess()"
   ]
  },
  {
   "cell_type": "code",
   "execution_count": 1,
   "metadata": {},
   "outputs": [],
   "source": [
    "import pandas as pd\n",
    "\n",
    "SPANISH_DATA_PATH = \"data/basic/spanish/espanol.csv\"\n",
    "spanish_df = pd.read_csv(SPANISH_DATA_PATH)"
   ]
  },
  {
   "cell_type": "code",
   "execution_count": 11,
   "metadata": {},
   "outputs": [
    {
     "data": {
      "text/html": [
       "<div>\n",
       "<style scoped>\n",
       "    .dataframe tbody tr th:only-of-type {\n",
       "        vertical-align: middle;\n",
       "    }\n",
       "\n",
       "    .dataframe tbody tr th {\n",
       "        vertical-align: top;\n",
       "    }\n",
       "\n",
       "    .dataframe thead th {\n",
       "        text-align: right;\n",
       "    }\n",
       "</style>\n",
       "<table border=\"1\" class=\"dataframe\">\n",
       "  <thead>\n",
       "    <tr style=\"text-align: right;\">\n",
       "      <th></th>\n",
       "      <th>text</th>\n",
       "      <th>label</th>\n",
       "    </tr>\n",
       "  </thead>\n",
       "  <tbody>\n",
       "    <tr>\n",
       "      <th>0</th>\n",
       "      <td>El suceso ha tenido lugar en Brasil. Un a...</td>\n",
       "      <td>1</td>\n",
       "    </tr>\n",
       "    <tr>\n",
       "      <th>1</th>\n",
       "      <td>\"La quimioterapia mata a la gente y no al cánc...</td>\n",
       "      <td>1</td>\n",
       "    </tr>\n",
       "    <tr>\n",
       "      <th>2</th>\n",
       "      <td>Los Cubos De Caldo Para Cocinar Son Veneno Par...</td>\n",
       "      <td>1</td>\n",
       "    </tr>\n",
       "    <tr>\n",
       "      <th>3</th>\n",
       "      <td>MEGATERREMOTO EN LOS PRÓXIMOS DÍAS ALINEACIÓN ...</td>\n",
       "      <td>1</td>\n",
       "    </tr>\n",
       "    <tr>\n",
       "      <th>4</th>\n",
       "      <td>¡Qué injusticia! El perro que defendió su casa...</td>\n",
       "      <td>1</td>\n",
       "    </tr>\n",
       "  </tbody>\n",
       "</table>\n",
       "</div>"
      ],
      "text/plain": [
       "                                                text  label\n",
       "0       El suceso ha tenido lugar en Brasil. Un a...      1\n",
       "1  \"La quimioterapia mata a la gente y no al cánc...      1\n",
       "2  Los Cubos De Caldo Para Cocinar Son Veneno Par...      1\n",
       "3  MEGATERREMOTO EN LOS PRÓXIMOS DÍAS ALINEACIÓN ...      1\n",
       "4  ¡Qué injusticia! El perro que defendió su casa...      1"
      ]
     },
     "execution_count": 11,
     "metadata": {},
     "output_type": "execute_result"
    }
   ],
   "source": [
    "spanish_df.fillna('', inplace=True)\n",
    "spanish_df['text'] = spanish_df.apply(lambda x: x['title'] + ' ' + x['text'], axis=1)\n",
    "spanish_df = spanish_df[['text', 'label']]\n",
    "spanish_df.head(5)"
   ]
  },
  {
   "cell_type": "code",
   "execution_count": 13,
   "metadata": {},
   "outputs": [],
   "source": [
    "save_path = \"data/preprocessed/spanish\"\n",
    "spanish_df.to_json(save_path, orient=\"records\", lines=True)"
   ]
  },
  {
   "cell_type": "code",
   "execution_count": null,
   "metadata": {},
   "outputs": [],
   "source": []
  }
 ],
 "metadata": {
  "kernelspec": {
   "display_name": "Python 3",
   "language": "python",
   "name": "python3"
  },
  "language_info": {
   "codemirror_mode": {
    "name": "ipython",
    "version": 3
   },
   "file_extension": ".py",
   "mimetype": "text/x-python",
   "name": "python",
   "nbconvert_exporter": "python",
   "pygments_lexer": "ipython3",
   "version": "3.9.13"
  }
 },
 "nbformat": 4,
 "nbformat_minor": 0
}
